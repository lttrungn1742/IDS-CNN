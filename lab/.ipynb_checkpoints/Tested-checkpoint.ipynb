{
 "cells": [
  {
   "cell_type": "code",
   "execution_count": 34,
   "id": "cef1abd9",
   "metadata": {},
   "outputs": [
    {
     "name": "stdout",
     "output_type": "stream",
     "text": [
      "-  /Users/TrungLT/CNN/Input/TrafficLabelling/Thursday-WorkingHours-Afternoon-Infilteration.pcap_ISCX.csv\n",
      "[Errno 21] Is a directory: '/Users/TrungLT/CNN/Input/'\n",
      "-  /Users/TrungLT/CNN/Input/TrafficLabelling/Monday-WorkingHours.pcap_ISCX.csv\n",
      "[Errno 21] Is a directory: '/Users/TrungLT/CNN/Input/'\n",
      "-  /Users/TrungLT/CNN/Input/TrafficLabelling/Friday-WorkingHours-Morning.pcap_ISCX.csv\n",
      "[Errno 21] Is a directory: '/Users/TrungLT/CNN/Input/'\n",
      "-  /Users/TrungLT/CNN/Input/TrafficLabelling/Friday-WorkingHours-Afternoon-PortScan.pcap_ISCX.csv\n",
      "[Errno 21] Is a directory: '/Users/TrungLT/CNN/Input/'\n",
      "-  /Users/TrungLT/CNN/Input/TrafficLabelling/Friday-WorkingHours-Afternoon-DDos.pcap_ISCX.csv\n",
      "[Errno 21] Is a directory: '/Users/TrungLT/CNN/Input/'\n",
      "-  /Users/TrungLT/CNN/Input/TrafficLabelling/Tuesday-WorkingHours.pcap_ISCX.csv\n",
      "[Errno 21] Is a directory: '/Users/TrungLT/CNN/Input/'\n",
      "-  /Users/TrungLT/CNN/Input/TrafficLabelling/Wednesday-workingHours.pcap_ISCX.csv\n",
      "[Errno 21] Is a directory: '/Users/TrungLT/CNN/Input/'\n",
      "-  /Users/TrungLT/CNN/Input/TrafficLabelling/Thursday-WorkingHours-Morning-WebAttacks.pcap_ISCX.csv\n",
      "[Errno 21] Is a directory: '/Users/TrungLT/CNN/Input/'\n",
      "-  /Users/TrungLT/CNN/Input/MachineLearningCVE/Thursday-WorkingHours-Afternoon-Infilteration.pcap_ISCX.csv\n",
      "[Errno 21] Is a directory: '/Users/TrungLT/CNN/Input/'\n",
      "-  /Users/TrungLT/CNN/Input/MachineLearningCVE/Monday-WorkingHours.pcap_ISCX.csv\n",
      "[Errno 21] Is a directory: '/Users/TrungLT/CNN/Input/'\n",
      "-  /Users/TrungLT/CNN/Input/MachineLearningCVE/Friday-WorkingHours-Morning.pcap_ISCX.csv\n",
      "[Errno 21] Is a directory: '/Users/TrungLT/CNN/Input/'\n",
      "-  /Users/TrungLT/CNN/Input/MachineLearningCVE/Friday-WorkingHours-Afternoon-PortScan.pcap_ISCX.csv\n",
      "[Errno 21] Is a directory: '/Users/TrungLT/CNN/Input/'\n",
      "-  /Users/TrungLT/CNN/Input/MachineLearningCVE/Friday-WorkingHours-Afternoon-DDos.pcap_ISCX.csv\n",
      "[Errno 21] Is a directory: '/Users/TrungLT/CNN/Input/'\n",
      "-  /Users/TrungLT/CNN/Input/MachineLearningCVE/Tuesday-WorkingHours.pcap_ISCX.csv\n",
      "[Errno 21] Is a directory: '/Users/TrungLT/CNN/Input/'\n",
      "-  /Users/TrungLT/CNN/Input/MachineLearningCVE/Wednesday-workingHours.pcap_ISCX.csv\n",
      "[Errno 21] Is a directory: '/Users/TrungLT/CNN/Input/'\n",
      "-  /Users/TrungLT/CNN/Input/MachineLearningCVE/Thursday-WorkingHours-Morning-WebAttacks.pcap_ISCX.csv\n",
      "[Errno 21] Is a directory: '/Users/TrungLT/CNN/Input/'\n"
     ]
    }
   ],
   "source": [
    "from src import cnn\n",
    "\n",
    "cnn.plot_number()"
   ]
  }
 ],
 "metadata": {
  "kernelspec": {
   "display_name": "Python 3.10.8 64-bit",
   "language": "python",
   "name": "python3"
  },
  "language_info": {
   "codemirror_mode": {
    "name": "ipython",
    "version": 3
   },
   "file_extension": ".py",
   "mimetype": "text/x-python",
   "name": "python",
   "nbconvert_exporter": "python",
   "pygments_lexer": "ipython3",
   "version": "3.10.8"
  },
  "vscode": {
   "interpreter": {
    "hash": "aee8b7b246df8f9039afb4144a1f6fd8d2ca17a180786b69acc140d282b71a49"
   }
  }
 },
 "nbformat": 4,
 "nbformat_minor": 5
}
