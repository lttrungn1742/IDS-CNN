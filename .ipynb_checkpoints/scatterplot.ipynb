{
 "cells": [
  {
   "cell_type": "code",
   "execution_count": 1,
   "id": "298ac6bc-dc4f-4ade-ac06-3de864029381",
   "metadata": {},
   "outputs": [
    {
     "name": "stderr",
     "output_type": "stream",
     "text": [
      "2022-10-30 13:48:46.109625: I tensorflow/core/platform/cpu_feature_guard.cc:193] This TensorFlow binary is optimized with oneAPI Deep Neural Network Library (oneDNN) to use the following CPU instructions in performance-critical operations:  AVX2 FMA\n",
      "To enable them in other operations, rebuild TensorFlow with the appropriate compiler flags.\n"
     ]
    },
    {
     "name": "stdout",
     "output_type": "stream",
     "text": [
      "The path is not file or directory\n"
     ]
    }
   ],
   "source": [
    "import numpy as np\n",
    "import pandas as pd \n",
    "import os, re, time, math, tqdm, itertools\n",
    "import matplotlib.pyplot as plt\n",
    "import seaborn as sns\n",
    "import plotly.express as px\n",
    "import plotly.offline as pyo\n",
    "from sklearn.model_selection import train_test_split\n",
    "from sklearn.preprocessing import MinMaxScaler\n",
    "from sklearn.ensemble import RandomForestClassifier\n",
    "from sklearn.preprocessing import LabelEncoder\n",
    "from sklearn.neural_network import MLPClassifier\n",
    "import keras\n",
    "from keras.layers import Conv2D, Conv1D, MaxPooling2D, MaxPooling1D, Flatten, BatchNormalization, Dense\n",
    "from keras.utils.np_utils import to_categorical\n",
    "from keras.models import Sequential\n",
    "from keras.callbacks import CSVLogger, ModelCheckpoint\n",
    "from plotly.offline import download_plotlyjs, init_notebook_mode, plot, iplot\n",
    "\n",
    "\n",
    "def scatterplot(network_data):\n",
    "    pyo.init_notebook_mode(connected=True)\n",
    "    fig = px.scatter(x=network_data[\"Flow Bytes/s\"][:100000],\n",
    "                     y=network_data[\"Avg Bwd Segment Size\"][:100000])\n",
    "    fig.show()\n",
    "\n",
    "def plot_number(network_data):\n",
    "    sns.set(rc={'figure.figsize': (12, 6)})\n",
    "    plt.xlabel('Attack Type')\n",
    "    sns.set_theme()\n",
    "    ax = sns.countplot(x='Label', data=network_data)\n",
    "    ax.set(xlabel='Attack Type', ylabel='Number of Attacks')\n",
    "    plt.show()\n",
    "\n",
    "def loading_data(path):\n",
    "    \"\"\"\n",
    "      https://stackoverflow.com/questions/45529507/unicodedecodeerror-utf-8-codec-cant-decode-byte-0x96-in-position-35-invalid\n",
    "    \"\"\"\n",
    "    return pd.read_csv(path, encoding='cp1252')\n",
    "\n",
    "def validate(network_data):\n",
    "    \"\"\"\n",
    "        ptr\n",
    "    \"\"\"\n",
    "    try:\n",
    "        network_data['Label']\n",
    "    except KeyError:\n",
    "        columns = [sanitize(i) for i in network_data.columns]\n",
    "        network_data.columns = columns\n",
    "\n",
    "def sanitize(column):\n",
    "    \"\"\"\n",
    "        de-recursion\n",
    "    \"\"\"\n",
    "    while ' ' == column[0]:\n",
    "        column = column[1:]\n",
    "    return column\n",
    "\n",
    "def main(path):\n",
    "    network_data = loading_data(path)\n",
    "    validate(network_data)\n",
    "\n",
    "    # print(network_data.shape)\n",
    "    # print(network_data.info())\n",
    "    # print(network_data['Label'].value_counts())\n",
    "\n",
    "    scatterplot(network_data)\n",
    "\n",
    "\n",
    "if __name__ == '__main__':\n",
    "    path = \"/Users/TrungLT/CNN/Input/\"\n",
    "\n",
    "    if os.path.isfile(path):\n",
    "        main(path)\n",
    "    elif os.path.isdir(path):\n",
    "        for dirname, _, filenames in os.walk(path):\n",
    "            for filename in filenames:\n",
    "                file = os.path.join(dirname, filename)\n",
    "                print(f\"We will show chart from {file}\")\n",
    "                try:\n",
    "                    main(file)\n",
    "                except Exception as err:\n",
    "                    print(err)\n",
    "                print(\"---ENDING---\")\n",
    "    else:\n",
    "        print(\"The path is not file or directory\")\n",
    "\n",
    "\n"
   ]
  },
  {
   "cell_type": "code",
   "execution_count": null,
   "id": "62edcd97-829d-4927-ba31-76e0e79a48d2",
   "metadata": {},
   "outputs": [],
   "source": []
  }
 ],
 "metadata": {
  "kernelspec": {
   "display_name": "Python 3.10.8 64-bit",
   "language": "python",
   "name": "python3"
  },
  "language_info": {
   "codemirror_mode": {
    "name": "ipython",
    "version": 3
   },
   "file_extension": ".py",
   "mimetype": "text/x-python",
   "name": "python",
   "nbconvert_exporter": "python",
   "pygments_lexer": "ipython3",
   "version": "3.10.8"
  },
  "vscode": {
   "interpreter": {
    "hash": "aee8b7b246df8f9039afb4144a1f6fd8d2ca17a180786b69acc140d282b71a49"
   }
  }
 },
 "nbformat": 4,
 "nbformat_minor": 5
}
